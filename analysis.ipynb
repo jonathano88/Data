{
 "cells": [
  {
   "cell_type": "markdown",
   "metadata": {},
   "source": [
    "# Análisis"
   ]
  },
  {
   "cell_type": "code",
   "execution_count": 1,
   "metadata": {},
   "outputs": [],
   "source": [
    "import warnings\n",
    "warnings.filterwarnings(\"ignore\",category=FutureWarning)\n",
    "import numpy as np\n",
    "import matplotlib.pyplot as plt\n",
    "import pandas as pd\n",
    "import seaborn as sns\n",
    "import datetime as dt\n",
    "from sklearn.linear_model import LinearRegression\n",
    "from sklearn.linear_model import LogisticRegression\n",
    "from sklearn.linear_model import Lasso\n",
    "from sklearn.linear_model import Ridge\n",
    "from sklearn.model_selection import KFold\n",
    "from sklearn.model_selection import GridSearchCV\n",
    "from sklearn.model_selection import train_test_split\n",
    "from sklearn.preprocessing import LabelEncoder\n",
    "from sklearn.preprocessing import StandardScaler\n",
    "from sklearn.preprocessing import RobustScaler\n",
    "from sklearn.preprocessing import MinMaxScaler\n",
    "from sklearn.preprocessing import MaxAbsScaler\n",
    "from sklearn.preprocessing import PolynomialFeatures\n",
    "from sklearn.pipeline import make_pipeline\n",
    "from sklearn import metrics\n",
    "from imblearn.under_sampling import RandomUnderSampler\n",
    "from imblearn.over_sampling import RandomOverSampler\n",
    "from imblearn.over_sampling import SMOTE\n",
    "from imblearn.combine import SMOTEENN\n",
    "from numpy.linalg import svd\n",
    "import requests\n",
    "import json\n",
    "\n",
    "\n",
    "sscaler = StandardScaler()\n",
    "rscaler = RobustScaler()\n",
    "mmscaler = MinMaxScaler()\n",
    "mascaler = MaxAbsScaler()\n",
    "\n"
   ]
  },
  {
   "cell_type": "code",
   "execution_count": 2,
   "metadata": {},
   "outputs": [],
   "source": [
    "def run_kfold_model (X,y,K=10,graph=True):\n",
    "    regr = LinearRegression()\n",
    "    kf = KFold(n_splits=5)\n",
    "    s=1\n",
    "    for train_index, test_index in kf.split(X):\n",
    "        # print(\"TRAIN:\", train_index, \"TEST:\", test_index)\n",
    "        X_train, X_test = X[train_index], X[test_index]\n",
    "        y_train, y_test = y[train_index], y[test_index]\n",
    "        regr.fit(X_train, y_train)\n",
    "        print('Slice '+str(s)+' score: '+str(regr.score(X_test, y_test)))\n",
    "        y_pred = regr.predict(X_test)\n",
    "        if graph:\n",
    "            plt.scatter(y_test, y_pred, color = 'red', marker = 'o', s = 35, alpha = 0.5, label = 'Test data')\n",
    "            plt.show()\n",
    "        s+=1\n",
    "    return(regr)"
   ]
  },
  {
   "cell_type": "code",
   "execution_count": 3,
   "metadata": {},
   "outputs": [],
   "source": [
    "def scores (model, X_train, X_test, y_train, y_pred, graph=True):\n",
    "    MAE=metrics.mean_absolute_error(y_train, y_pred)\n",
    "    MSE=metrics.mean_squared_error(y_train, y_pred)\n",
    "    RMSE=np.sqrt(metrics.mean_squared_error(y_train, y_pred))\n",
    "    CV_RMSE= (RMSE/np.average(y_train))*100\n",
    "    R2=metrics.r2_score(y_train, y_pred)\n",
    "    ACC=metrics.accuracy_score\n",
    "    REC=metrics.recall_score\n",
    "    PREC=metrics.precision_score\n",
    "\n",
    "    print('MAE:'+str(MAE))\n",
    "    print('MSE:'+str(MSE))\n",
    "    print('RMSE:'+str(RMSE))\n",
    "    print('CV(RMSE): '+str(CV_RMSE))\n",
    "    print('R2:'+str(R2))\n",
    "    print('Accuracy:'+str(ACC))\n",
    "    print('Recall:'+str(REC))\n",
    "    print('Precision:'+str(PREC))\n",
    "\n",
    "    print('Training score: '+str(model.score(X_train, y_train))) #(Accuracy or R2)\n",
    "    print('Test score: '+str(model.score(X_test, y_train)))\n",
    "    if graph == True:\n",
    "        plt.scatter(y_train, y_pred, color = 'red', marker = 'o', s = 35, alpha = 0.5, label = 'Test data')\n",
    "        plt.show()"
   ]
  },
  {
   "cell_type": "code",
   "execution_count": 4,
   "metadata": {},
   "outputs": [],
   "source": [
    "# data = pd.read_excel('mozilla-bugs-all.xlsx')\n",
    "# data.describe"
   ]
  },
  {
   "cell_type": "code",
   "execution_count": 5,
   "metadata": {},
   "outputs": [],
   "source": [
    "# def json_data(URL,params):\n",
    "#     headers = {\"Accept\" : \"application/json\"}\n",
    "#     resp = requests.get(URL, params= params, headers= headers)\n",
    "#     df = pd.DataFrame()\n",
    "#     if resp.status_code != 200:\n",
    "#         print('error: ' + str(resp.status_code))\n",
    "#     else:\n",
    "#         print('Success')\n",
    "#         bugs = resp.text\n",
    "#         data = json.loads(bugs)\n",
    "#         df = pd.json_normalize(data['bugs'])\n",
    "#     return(df)\n",
    "    \n",
    "# params ={\n",
    "#     \"include_fields\" : [\"id\"\n",
    "#                         ,\"summary\"\n",
    "#                         ,\"status\"\n",
    "#                         ,\"description\"\n",
    "#                         ,\"type\"\n",
    "#                         ,\"classification\"\n",
    "#                         ,\"product\"\n",
    "#                         ,\"component\"\n",
    "#                         ,\"priority\"\n",
    "#                         ,\"assigned_to\"\n",
    "#                         ,\"resolution\"\n",
    "#                         ,\"creation_time\"\n",
    "#                         ,\"last_change_time\"\n",
    "#                         ,\"severity\"\n",
    "#                         ,\"version\"\n",
    "#                         ]\n",
    "#     ,\"product\" : \"Core\"\n",
    "#     # ,\"status\" : [\"VERIFIED\",\"RESOLVED\",\"CLOSED\",\"UNCONFIRMED\",\"NEW\"]\n",
    "#     ,\"limit\" : 10000\n",
    "#     ,\"order\": \"opendate DESC\"\n",
    "# }\n",
    "# URL = \"https://bugzilla.mozilla.org/rest/bug\"\n"
   ]
  },
  {
   "cell_type": "code",
   "execution_count": 6,
   "metadata": {},
   "outputs": [],
   "source": [
    "# params[\"status\"] = \"RESOLVED\"\n",
    "# params.pop(\"status\", None)\n",
    "\n",
    "# test_df = json_data(URL,params)\n",
    "# print(test_df.columns.to_list())\n",
    "# test_df.tail()"
   ]
  },
  {
   "cell_type": "code",
   "execution_count": 7,
   "metadata": {},
   "outputs": [],
   "source": [
    "# for i in test_df.columns.to_list():\n",
    "#     print(\"Column \"+i+\" unique values:\")\n",
    "#     # print(test_df[i].unique())\n",
    "#     print(test_df[i].value_counts())\n",
    "\n",
    "#     print()\n"
   ]
  },
  {
   "cell_type": "code",
   "execution_count": 8,
   "metadata": {},
   "outputs": [],
   "source": [
    "# # test_df.groupby(['resolution']).sum().plot(kind='pie', y='id', autopct='%1.0f%%', labeldistance=None)\n",
    "# from datetime import datetime\n",
    "\n",
    "# print(test_df['creation_time'].min())\n",
    "# datetime.now() - pd.to_datetime(pd.to_datetime(test_df['creation_time'][test_df['resolution']=='FIXED']).values.astype(np.int64).mean())\n",
    "# # plt.pie(x=test_df['resolution'].unique(), labels=test_df['resolution'].value_counts())\n",
    "# # plt.show()\n",
    "\n",
    "# # plt.title('Category Distribution')\n",
    "# # plt.ylabel('')  # Hide the y-label\n",
    "# # plt.show()\n",
    "\n",
    "# # test_df.to_csv(\"dataset_20240907.csv\")\n",
    "# # test_df.date = pd.to_datetime(test_df.date).values.astype(np.int64)\n",
    "\n",
    "# # test_df = pd.DataFrame(pd.to_datetime(test_df.groupby('column').mean().date))"
   ]
  },
  {
   "cell_type": "code",
   "execution_count": 9,
   "metadata": {},
   "outputs": [
    {
     "data": {
      "text/plain": [
       "<bound method NDFrame.describe of       Unnamed: 0 resolution product         creation_time priority  \\\n",
       "0              0        NaN    Core  2024-08-27T07:10:15Z       P5   \n",
       "1              1        NaN    Core  2024-08-27T07:09:56Z       --   \n",
       "2              2        NaN    Core  2024-08-27T06:56:08Z       --   \n",
       "3              3        NaN    Core  2024-08-27T06:13:19Z       P5   \n",
       "4              4        NaN    Core  2024-08-27T05:29:11Z       --   \n",
       "...          ...        ...     ...                   ...      ...   \n",
       "9995        9995        NaN    Core  2024-03-23T18:04:58Z       --   \n",
       "9996        9996        NaN    Core  2024-03-23T18:01:29Z       --   \n",
       "9997        9997        NaN    Core  2024-03-23T17:57:21Z       P3   \n",
       "9998        9998        NaN    Core  2024-03-23T17:56:41Z       P3   \n",
       "9999        9999        NaN    Core  2024-03-23T17:55:13Z       P3   \n",
       "\n",
       "     classification    type      last_change_time  \\\n",
       "0        Components  defect  2024-08-27T07:10:15Z   \n",
       "1        Components  defect  2024-08-27T07:12:28Z   \n",
       "2        Components    task  2024-08-27T07:02:38Z   \n",
       "3        Components  defect  2024-08-27T06:17:48Z   \n",
       "4        Components  defect  2024-08-27T06:25:14Z   \n",
       "...             ...     ...                   ...   \n",
       "9995     Components  defect  2024-03-27T21:10:04Z   \n",
       "9996     Components  defect  2024-03-27T21:09:40Z   \n",
       "9997     Components  defect  2024-03-24T23:27:40Z   \n",
       "9998     Components  defect  2024-03-26T19:28:54Z   \n",
       "9999     Components  defect  2024-06-08T22:00:15Z   \n",
       "\n",
       "                           component  \\\n",
       "0                             Widget   \n",
       "1                    Networking: DNS   \n",
       "2                WebRTC: Audio/Video   \n",
       "3                Panning and Zooming   \n",
       "4                   DOM: Core & HTML   \n",
       "...                              ...   \n",
       "9995                  Layout: Floats   \n",
       "9996              Layout: Positioned   \n",
       "9997  Layout: Scrolling and Overflow   \n",
       "9998                 Layout: Columns   \n",
       "9999  Layout: Scrolling and Overflow   \n",
       "\n",
       "                                                summary  ...       status  \\\n",
       "0     Intermittent widget/tests/browser/browser_test...  ...          NEW   \n",
       "1     Bad name, functionality for network.trr.exclud...  ...  UNCONFIRMED   \n",
       "2        Request sRGB colorspace from ScreenCapturerSck  ...     ASSIGNED   \n",
       "3     Intermittent gfx/layers/apz/test/mochitest/tes...  ...          NEW   \n",
       "4              Removing meta viewport tag has no effect  ...          NEW   \n",
       "...                                                 ...  ...          ...   \n",
       "9995  Failing WPT css/css-shapes/spec-examples/shape...  ...          NEW   \n",
       "9996  Failing WPT css/css-position/position-absolute...  ...          NEW   \n",
       "9997  Failing WPT css/css-overflow/overfow-outside-p...  ...          NEW   \n",
       "9998  Failing WPT css/css-overflow/webkit-line-clamp...  ...          NEW   \n",
       "9999  Failing WPT css/css-overflow/scrollable-overfl...  ...          NEW   \n",
       "\n",
       "               assigned_to       id  severity      version  \\\n",
       "0       nobody@mozilla.org  1915086        S4  unspecified   \n",
       "1       nobody@mozilla.org  1915085        --  Firefox 129   \n",
       "2     apehrson@mozilla.com  1915082       NaN  unspecified   \n",
       "3       nobody@mozilla.org  1915078        S4  unspecified   \n",
       "4       nobody@mozilla.org  1915077        --  unspecified   \n",
       "...                    ...      ...       ...          ...   \n",
       "9995    nobody@mozilla.org  1887351        S3  unspecified   \n",
       "9996    nobody@mozilla.org  1887349        S3  unspecified   \n",
       "9997    nobody@mozilla.org  1887348        S3  unspecified   \n",
       "9998    nobody@mozilla.org  1887347        S3  unspecified   \n",
       "9999    nobody@mozilla.org  1887346        S3  unspecified   \n",
       "\n",
       "     assigned_to_detail.nick assigned_to_detail.id  assigned_to_detail.name  \\\n",
       "0                     nobody                     1       nobody@mozilla.org   \n",
       "1                     nobody                     1       nobody@mozilla.org   \n",
       "2                   pehrsons                489889     apehrson@mozilla.com   \n",
       "3                     nobody                     1       nobody@mozilla.org   \n",
       "4                     nobody                     1       nobody@mozilla.org   \n",
       "...                      ...                   ...                      ...   \n",
       "9995                  nobody                     1       nobody@mozilla.org   \n",
       "9996                  nobody                     1       nobody@mozilla.org   \n",
       "9997                  nobody                     1       nobody@mozilla.org   \n",
       "9998                  nobody                     1       nobody@mozilla.org   \n",
       "9999                  nobody                     1       nobody@mozilla.org   \n",
       "\n",
       "              assigned_to_detail.real_name assigned_to_detail.email  \n",
       "0     Nobody; OK to take it and work on it       nobody@mozilla.org  \n",
       "1     Nobody; OK to take it and work on it       nobody@mozilla.org  \n",
       "2              Andreas Pehrson [:pehrsons]     apehrson@mozilla.com  \n",
       "3     Nobody; OK to take it and work on it       nobody@mozilla.org  \n",
       "4     Nobody; OK to take it and work on it       nobody@mozilla.org  \n",
       "...                                    ...                      ...  \n",
       "9995  Nobody; OK to take it and work on it       nobody@mozilla.org  \n",
       "9996  Nobody; OK to take it and work on it       nobody@mozilla.org  \n",
       "9997  Nobody; OK to take it and work on it       nobody@mozilla.org  \n",
       "9998  Nobody; OK to take it and work on it       nobody@mozilla.org  \n",
       "9999  Nobody; OK to take it and work on it       nobody@mozilla.org  \n",
       "\n",
       "[10000 rows x 21 columns]>"
      ]
     },
     "execution_count": 9,
     "metadata": {},
     "output_type": "execute_result"
    }
   ],
   "source": [
    "data = pd.read_csv('dataset_20240827.csv')\n",
    "data.describe"
   ]
  },
  {
   "cell_type": "code",
   "execution_count": 10,
   "metadata": {},
   "outputs": [
    {
     "data": {
      "text/plain": [
       "'Bad name, functionality for network.trr.exclude-etc-hosts'"
      ]
     },
     "execution_count": 10,
     "metadata": {},
     "output_type": "execute_result"
    }
   ],
   "source": [
    "data.iloc[1]['summary']"
   ]
  },
  {
   "cell_type": "code",
   "execution_count": 11,
   "metadata": {},
   "outputs": [
    {
     "name": "stderr",
     "output_type": "stream",
     "text": [
      "[nltk_data] Downloading package punkt_tab to\n",
      "[nltk_data]     C:\\Users\\jonat\\AppData\\Roaming\\nltk_data...\n",
      "[nltk_data]   Package punkt_tab is already up-to-date!\n",
      "[nltk_data] Downloading package stopwords to\n",
      "[nltk_data]     C:\\Users\\jonat\\AppData\\Roaming\\nltk_data...\n",
      "[nltk_data]   Package stopwords is already up-to-date!\n",
      "[nltk_data] Downloading package punkt to\n",
      "[nltk_data]     C:\\Users\\jonat\\AppData\\Roaming\\nltk_data...\n",
      "[nltk_data]   Package punkt is already up-to-date!\n",
      "[nltk_data] Downloading package wordnet to\n",
      "[nltk_data]     C:\\Users\\jonat\\AppData\\Roaming\\nltk_data...\n",
      "[nltk_data]   Package wordnet is already up-to-date!\n"
     ]
    },
    {
     "data": {
      "text/plain": [
       "True"
      ]
     },
     "execution_count": 11,
     "metadata": {},
     "output_type": "execute_result"
    }
   ],
   "source": [
    "import nltk\n",
    "nltk.download('punkt_tab')\n",
    "nltk.download('stopwords')\n",
    "nltk.download('punkt')\n",
    "nltk.download('wordnet')"
   ]
  },
  {
   "cell_type": "code",
   "execution_count": 12,
   "metadata": {},
   "outputs": [],
   "source": [
    "from nltk.corpus import stopwords\n",
    "from nltk.tokenize import word_tokenize\n",
    "from nltk.tokenize import MWETokenizer\n",
    "from nltk.stem import WordNetLemmatizer\n",
    "import math\n",
    "import re\n",
    "\n",
    "def NLProcess (text):\n",
    "        \n",
    "    # print('Original text: ',data.iloc[1]['description'])\n",
    "    print(\"====================== starting ======================\")\n",
    "    ######################################################################### Tokenised\n",
    "    mwe_tokenizer = MWETokenizer([('does', 'not'), ('in', 'spite', 'of'),('don', '’', 't')])\n",
    "    tokenizer = word_tokenize\n",
    "    tokenised = tokenizer(text)\n",
    "    print('Tokenised: ',tokenised)\n",
    "    retokenised = mwe_tokenizer.tokenize(tokenised)\n",
    "    # retokenised = [token.replace('_', '') for token in retokenised]\n",
    "    print('ReTokenised: ',retokenised)\n",
    "\n",
    "    ######################################################################### Lower-case converted\n",
    "    normalised = [word.lower() for word in retokenised] \n",
    "    print('Normalised: ',normalised)\n",
    "\n",
    "    ######################################################################### Punctuation marks removed\n",
    "    unmarked = [re.sub(r'[^\\w\\s]', '', token) for token in normalised if re.sub(r'[^\\w\\s]', '', token)]\n",
    "    print('Punctuation marks removed: ',unmarked)\n",
    "\n",
    "    ######################################################################### Stop-words removed\n",
    "    stop_words = set(stopwords.words('english'))\n",
    "    filtered = [word for word in unmarked if word not in stop_words]\n",
    "    print('Stop-words removed: ',filtered)\n",
    "\n",
    "    ######################################################################### Lemmatised\n",
    "    lemmatizer = WordNetLemmatizer()\n",
    "    lemmatised = [lemmatizer.lemmatize(word) for word in filtered]\n",
    "    print('Lemmatised: ',lemmatised)\n",
    "    \n",
    "    return lemmatised\n"
   ]
  },
  {
   "cell_type": "code",
   "execution_count": 21,
   "metadata": {},
   "outputs": [
    {
     "data": {
      "text/plain": [
       "pandas.core.series.Series"
      ]
     },
     "execution_count": 21,
     "metadata": {},
     "output_type": "execute_result"
    }
   ],
   "source": [
    "# for i in range(10):\n",
    "#     NLProcess(data.iloc[i]['description'])\n",
    "\n",
    "data['Psummary'] = data['summary'].map(NLProcess)\n",
    "\n",
    "# type(data['summary'])"
   ]
  },
  {
   "cell_type": "code",
   "execution_count": 22,
   "metadata": {},
   "outputs": [
    {
     "name": "stdout",
     "output_type": "stream",
     "text": [
      "====================== starting ======================\n",
      "Tokenised:  ['*', '*', 'Filed', 'by', ':', '*', '*', 'nfay', '[', 'at', ']', 'mozilla.com', '*', '*', 'Parsed', 'log', ':', '*', '*', 'https', ':', '//treeherder.mozilla.org/logviewer', '?', 'job_id=471892173', '&', 'repo=autoland', '*', '*', 'Full', 'log', ':', '*', '*', 'https', ':', '//firefox-ci-tc.services.mozilla.com/api/queue/v1/task/Mbzy-wsYSz-cJURNUErz4A/runs/0/artifacts/public/logs/live_backing.log', '--', '-', '``', '`', '[', 'task', '2024-08-27T05:06:00.446Z', ']', '05:06:00', 'INFO', '-', 'TEST-START', '|', 'widget/tests/browser/browser_test_ime_state_after_body_removed_and_reconnected_in_designMode.js', '[', 'task', '2024-08-27T05:06:01.261Z', ']', '05:06:01', 'INFO', '-', 'GECKO', '(', '3882', ')', '|', '2024-08-27', '05:06:01.260', 'firefox', '[', '3882:107419', ']', 'Persistent', 'UI', 'failed', 'to', 'open', 'file', 'file', ':', '///Users/cltbld/Library/Saved', '%', '20Application', '%', '20State/org.mozilla.nightly.savedState/window_1.data', ':', 'No', 'such', 'file', 'or', 'directory', '(', '2', ')', '[', 'task', '2024-08-27T05:06:07.958Z', ']', '05:06:07', 'INFO', '-', 'TEST-INFO', '|', 'started', 'process', 'screencapture', '[', 'task', '2024-08-27T05:06:08.076Z', ']', '05:06:08', 'INFO', '-', 'TEST-INFO', '|', 'screencapture', ':', 'exit', '0', '[', 'task', '2024-08-27T05:06:08.076Z', ']', '05:06:08', 'INFO', '-', 'Buffered', 'messages', 'logged', 'at', '05:06:00', '[', 'task', '2024-08-27T05:06:08.076Z', ']', '05:06:08', 'INFO', '-', 'Entering', 'test', 'bound', 'test_replace_body_in_designMode', '[', 'task', '2024-08-27T05:06:08.077Z', ']', '05:06:08', 'INFO', '-', 'TEST-PASS', '|', 'widget/tests/browser/browser_test_ime_state_after_body_removed_and_reconnected_in_designMode.js', '|', 'test_replace_body_in_designMode', ':', 'TextInputProcessor', 'should', \"'ve\", 'been', 'initialized', '-', '[', 'task', '2024-08-27T05:06:08.077Z', ']', '05:06:08', 'INFO', '-', 'Console', 'message', ':', '[', 'JavaScript', 'Warning', ':', '``', 'This', 'page', 'is', 'in', 'Quirks', 'Mode', '.', 'Page', 'layout', 'may', 'be', 'impacted', '.', 'For', 'Standards', 'Mode', 'use', '“', '<', '!', 'DOCTYPE', 'html', '>', '”', '.', \"''\", '{', 'file', ':', '``', 'data', ':', 'text/html', ',', '<', 'html', '>', '<', 'body', '>', '<', 'br', '>', '<', '/body', '>', '<', '/html', '>', \"''\", 'line', ':', '0', '}', ']', '[', 'task', '2024-08-27T05:06:08.078Z', ']', '05:06:08', 'INFO', '-', 'test_replace_body_in_designMode', ':', 'Waiting', 'for', 'initial', 'IME', 'focus', '...', '[', 'task', '2024-08-27T05:06:08.078Z', ']', '05:06:08', 'INFO', '-', 'TEST-PASS', '|', 'widget/tests/browser/browser_test_ime_state_after_body_removed_and_reconnected_in_designMode.js', '|', 'test_replace_body_in_designMode', ':', 'IME', 'should', 'be', 'enabled', 'when', 'the', 'document', 'becomes', 'editable', '-', '1', '==', '1', '-', '[', 'task', '2024-08-27T05:06:08.079Z', ']', '05:06:08', 'INFO', '-', 'test_replace_body_in_designMode', ':', 'Waiting', 'for', 'IME', 'refocus', 'after', 'the', '<', 'body', '>', 'is', 'removed', '...', '[', 'task', '2024-08-27T05:06:08.079Z', ']', '05:06:08', 'INFO', '-', 'Buffered', 'messages', 'logged', 'at', '05:06:01', '[', 'task', '2024-08-27T05:06:08.080Z', ']', '05:06:08', 'INFO', '-', 'TEST-PASS', '|', 'widget/tests/browser/browser_test_ime_state_after_body_removed_and_reconnected_in_designMode.js', '|', 'test_replace_body_in_designMode', ':', 'IME', 'should', 'be', 'enabled', 'after', 'the', '<', 'body', '>', 'is', 'removed', '-', '1', '==', '1', '-', '[', 'task', '2024-08-27T05:06:08.080Z', ']', '05:06:08', 'INFO', '-', 'Buffered', 'messages', 'logged', 'at', '05:06:07', '[', 'task', '2024-08-27T05:06:08.080Z', ']', '05:06:08', 'INFO', '-', 'TEST-PASS', '|', 'widget/tests/browser/browser_test_ime_state_after_body_removed_and_reconnected_in_designMode.js', '|', 'test_replace_body_in_designMode', ':', 'IME', 'should', 'not', 'be', 'refocused', 'when', 'the', '<', 'body', '>', 'is', 'reconnected', '-', '0', '==', '0', '-', '[', 'task', '2024-08-27T05:06:08.081Z', ']', '05:06:08', 'INFO', '-', 'TEST-PASS', '|', 'widget/tests/browser/browser_test_ime_state_after_body_removed_and_reconnected_in_designMode.js', '|', 'test_replace_body_in_designMode', ':', 'IME', 'should', 'be', 'enabled', 'after', 'the', '<', 'body', '>', 'is', 'reconnected', '-', '1', '==', '1', '-', '[', 'task', '2024-08-27T05:06:08.081Z', ']', '05:06:08', 'INFO', '-', 'Leaving', 'test', 'bound', 'test_replace_body_in_designMode', '[', 'task', '2024-08-27T05:06:08.082Z', ']', '05:06:08', 'INFO', '-', 'Entering', 'test', 'bound', 'test_replace_document_element_in_designMode', '[', 'task', '2024-08-27T05:06:08.082Z', ']', '05:06:08', 'INFO', '-', 'TEST-PASS', '|', 'widget/tests/browser/browser_test_ime_state_after_body_removed_and_reconnected_in_designMode.js', '|', 'test_replace_document_element_in_designMode', ':', 'TextInputProcessor', 'should', \"'ve\", 'been', 'initialized', '-', '[', 'task', '2024-08-27T05:06:08.083Z', ']', '05:06:08', 'INFO', '-', 'Console', 'message', ':', '[', 'JavaScript', 'Warning', ':', '``', 'This', 'page', 'is', 'in', 'Quirks', 'Mode', '.', 'Page', 'layout', 'may', 'be', 'impacted', '.', 'For', 'Standards', 'Mode', 'use', '“', '<', '!', 'DOCTYPE', 'html', '>', '”', '.', \"''\", '{', 'file', ':', '``', 'data', ':', 'text/html', ',', '<', 'html', '>', '<', 'body', '>', '<', 'br', '>', '<', '/body', '>', '<', '/html', '>', \"''\", 'line', ':', '0', '}', ']', '[', 'task', '2024-08-27T05:06:08.083Z', ']', '05:06:08', 'INFO', '-', 'test_replace_document_element_in_designMode', ':', 'Waiting', 'for', 'initial', 'IME', 'focus', '...', '[', 'task', '2024-08-27T05:06:08.084Z', ']', '05:06:08', 'INFO', '-', 'TEST-PASS', '|', 'widget/tests/browser/browser_test_ime_state_after_body_removed_and_reconnected_in_designMode.js', '|', 'test_replace_document_element_in_designMode', ':', 'IME', 'should', 'be', 'enabled', 'when', 'the', 'document', 'becomes', 'editable', '-', '1', '==', '1', '-', '[', 'task', '2024-08-27T05:06:08.084Z', ']', '05:06:08', 'INFO', '-', 'test_replace_document_element_in_designMode', ':', 'Waiting', 'for', 'IME', 'blur', 'after', 'the', '<', 'html', '>', 'is', 'removed', '...', '[', 'task', '2024-08-27T05:06:08.084Z', ']', '05:06:08', 'INFO', '-', 'TEST-PASS', '|', 'widget/tests/browser/browser_test_ime_state_after_body_removed_and_reconnected_in_designMode.js', '|', 'test_replace_document_element_in_designMode', ':', 'IME', 'should', 'be', 'enabled', 'after', 'the', '<', 'html', '>', 'is', 'removed', '-', '1', '==', '1', '-', '[', 'task', '2024-08-27T05:06:08.085Z', ']', '05:06:08', 'INFO', '-', 'Buffered', 'messages', 'finished', '[', 'task', '2024-08-27T05:06:08.086Z', ']', '05:06:08', 'INFO', '-', 'TEST-UNEXPECTED-FAIL', '|', 'widget/tests/browser/browser_test_ime_state_after_body_removed_and_reconnected_in_designMode.js', '|', 'test_replace_document_element_in_designMode', ':', 'IME', 'should', 'not', 'be', 'refocused', 'when', 'the', '<', 'html', '>', 'is', 'reconnected', '-', '1', '==', '0', '-', '[', 'task', '2024-08-27T05:06:08.086Z', ']', '05:06:08', 'INFO', '-', 'Stack', 'trace', ':', '[', 'task', '2024-08-27T05:06:08.086Z', ']', '05:06:08', 'INFO', '-', 'chrome', ':', '//mochitests/content/browser/widget/tests/browser/browser_test_ime_state_after_body_removed_and_reconnected_in_designMode.js', ':', 'test_replace_document_element_in_designMode/', '<', ':155', '[', 'task', '2024-08-27T05:06:08.086Z', ']', '05:06:08', 'INFO', '-', 'resource', ':', '//testing-common/BrowserTestUtils.sys.mjs', ':', 'withNewTab:121', '[', 'task', '2024-08-27T05:06:08.086Z', ']', '05:06:08', 'INFO', '-', 'chrome', ':', '//mochitests/content/browser/widget/tests/browser/browser_test_ime_state_after_body_removed_and_reconnected_in_designMode.js', ':', 'test_replace_document_element_in_designMode:93', '[', 'task', '2024-08-27T05:06:08.086Z', ']', '05:06:08', 'INFO', '-', 'chrome', ':', '//mochikit/content/browser-test.js', ':', 'handleTask:1145', '[', 'task', '2024-08-27T05:06:08.086Z', ']', '05:06:08', 'INFO', '-', 'chrome', ':', '//mochikit/content/browser-test.js', ':', '_runTaskBasedTest:1217', '[', 'task', '2024-08-27T05:06:08.086Z', ']', '05:06:08', 'INFO', '-', 'chrome', ':', '//mochikit/content/browser-test.js', ':', 'Tester_execTest:1358', '[', 'task', '2024-08-27T05:06:08.086Z', ']', '05:06:08', 'INFO', '-', 'chrome', ':', '//mochikit/content/browser-test.js', ':', 'nextTest/', '<', ':1134', '[', 'task', '2024-08-27T05:06:08.086Z', ']', '05:06:08', 'INFO', '-', 'chrome', ':', '//mochikit/content/tests/SimpleTest/SimpleTest.js', ':', 'SimpleTest.waitForFocus/', '<', ':1058', '[', 'task', '2024-08-27T05:06:08.087Z', ']', '05:06:08', 'INFO', '-', 'TEST-PASS', '|', 'widget/tests/browser/browser_test_ime_state_after_body_removed_and_reconnected_in_designMode.js', '|', 'test_replace_document_element_in_designMode', ':', 'IME', 'should', 'be', 'enabled', 'after', 'the', '<', 'html', '>', 'is', 'reconnected', '-', '1', '==', '1', '-', '[', 'task', '2024-08-27T05:06:08.087Z', ']', '05:06:08', 'INFO', '-', 'Leaving', 'test', 'bound', 'test_replace_document_element_in_designMode', '[', 'task', '2024-08-27T05:06:08.216Z', ']', '05:06:08', 'INFO', '-', 'GECKO', '(', '3882', ')', '|', 'MEMORY', 'STAT', '|', 'vsize', '24735MB', '|', 'residentFast', '339MB', '|', 'heapAllocated', '139MB', '[', 'task', '2024-08-27T05:06:08.216Z', ']', '05:06:08', 'INFO', '-', 'TEST-OK', '|', 'widget/tests/browser/browser_test_ime_state_after_body_removed_and_reconnected_in_designMode.js', '|', 'took', '7770ms', '[', 'task', '2024-08-27T05:06:08.236Z', ']', '05:06:08', 'INFO', '-', 'checking', 'window', 'state', '[', 'task', '2024-08-27T05:06:08.243Z', ']', '05:06:08', 'INFO', '-', 'TEST-START', '|', 'widget/tests/browser/browser_test_ime_state_in_contenteditable_on_focus_move_in_remote_content.js', '``', '`']\n",
      "ReTokenised:  ['*', '*', 'Filed', 'by', ':', '*', '*', 'nfay', '[', 'at', ']', 'mozilla.com', '*', '*', 'Parsed', 'log', ':', '*', '*', 'https', ':', '//treeherder.mozilla.org/logviewer', '?', 'job_id=471892173', '&', 'repo=autoland', '*', '*', 'Full', 'log', ':', '*', '*', 'https', ':', '//firefox-ci-tc.services.mozilla.com/api/queue/v1/task/Mbzy-wsYSz-cJURNUErz4A/runs/0/artifacts/public/logs/live_backing.log', '--', '-', '``', '`', '[', 'task', '2024-08-27T05:06:00.446Z', ']', '05:06:00', 'INFO', '-', 'TEST-START', '|', 'widget/tests/browser/browser_test_ime_state_after_body_removed_and_reconnected_in_designMode.js', '[', 'task', '2024-08-27T05:06:01.261Z', ']', '05:06:01', 'INFO', '-', 'GECKO', '(', '3882', ')', '|', '2024-08-27', '05:06:01.260', 'firefox', '[', '3882:107419', ']', 'Persistent', 'UI', 'failed', 'to', 'open', 'file', 'file', ':', '///Users/cltbld/Library/Saved', '%', '20Application', '%', '20State/org.mozilla.nightly.savedState/window_1.data', ':', 'No', 'such', 'file', 'or', 'directory', '(', '2', ')', '[', 'task', '2024-08-27T05:06:07.958Z', ']', '05:06:07', 'INFO', '-', 'TEST-INFO', '|', 'started', 'process', 'screencapture', '[', 'task', '2024-08-27T05:06:08.076Z', ']', '05:06:08', 'INFO', '-', 'TEST-INFO', '|', 'screencapture', ':', 'exit', '0', '[', 'task', '2024-08-27T05:06:08.076Z', ']', '05:06:08', 'INFO', '-', 'Buffered', 'messages', 'logged', 'at', '05:06:00', '[', 'task', '2024-08-27T05:06:08.076Z', ']', '05:06:08', 'INFO', '-', 'Entering', 'test', 'bound', 'test_replace_body_in_designMode', '[', 'task', '2024-08-27T05:06:08.077Z', ']', '05:06:08', 'INFO', '-', 'TEST-PASS', '|', 'widget/tests/browser/browser_test_ime_state_after_body_removed_and_reconnected_in_designMode.js', '|', 'test_replace_body_in_designMode', ':', 'TextInputProcessor', 'should', \"'ve\", 'been', 'initialized', '-', '[', 'task', '2024-08-27T05:06:08.077Z', ']', '05:06:08', 'INFO', '-', 'Console', 'message', ':', '[', 'JavaScript', 'Warning', ':', '``', 'This', 'page', 'is', 'in', 'Quirks', 'Mode', '.', 'Page', 'layout', 'may', 'be', 'impacted', '.', 'For', 'Standards', 'Mode', 'use', '“', '<', '!', 'DOCTYPE', 'html', '>', '”', '.', \"''\", '{', 'file', ':', '``', 'data', ':', 'text/html', ',', '<', 'html', '>', '<', 'body', '>', '<', 'br', '>', '<', '/body', '>', '<', '/html', '>', \"''\", 'line', ':', '0', '}', ']', '[', 'task', '2024-08-27T05:06:08.078Z', ']', '05:06:08', 'INFO', '-', 'test_replace_body_in_designMode', ':', 'Waiting', 'for', 'initial', 'IME', 'focus', '...', '[', 'task', '2024-08-27T05:06:08.078Z', ']', '05:06:08', 'INFO', '-', 'TEST-PASS', '|', 'widget/tests/browser/browser_test_ime_state_after_body_removed_and_reconnected_in_designMode.js', '|', 'test_replace_body_in_designMode', ':', 'IME', 'should', 'be', 'enabled', 'when', 'the', 'document', 'becomes', 'editable', '-', '1', '==', '1', '-', '[', 'task', '2024-08-27T05:06:08.079Z', ']', '05:06:08', 'INFO', '-', 'test_replace_body_in_designMode', ':', 'Waiting', 'for', 'IME', 'refocus', 'after', 'the', '<', 'body', '>', 'is', 'removed', '...', '[', 'task', '2024-08-27T05:06:08.079Z', ']', '05:06:08', 'INFO', '-', 'Buffered', 'messages', 'logged', 'at', '05:06:01', '[', 'task', '2024-08-27T05:06:08.080Z', ']', '05:06:08', 'INFO', '-', 'TEST-PASS', '|', 'widget/tests/browser/browser_test_ime_state_after_body_removed_and_reconnected_in_designMode.js', '|', 'test_replace_body_in_designMode', ':', 'IME', 'should', 'be', 'enabled', 'after', 'the', '<', 'body', '>', 'is', 'removed', '-', '1', '==', '1', '-', '[', 'task', '2024-08-27T05:06:08.080Z', ']', '05:06:08', 'INFO', '-', 'Buffered', 'messages', 'logged', 'at', '05:06:07', '[', 'task', '2024-08-27T05:06:08.080Z', ']', '05:06:08', 'INFO', '-', 'TEST-PASS', '|', 'widget/tests/browser/browser_test_ime_state_after_body_removed_and_reconnected_in_designMode.js', '|', 'test_replace_body_in_designMode', ':', 'IME', 'should', 'not', 'be', 'refocused', 'when', 'the', '<', 'body', '>', 'is', 'reconnected', '-', '0', '==', '0', '-', '[', 'task', '2024-08-27T05:06:08.081Z', ']', '05:06:08', 'INFO', '-', 'TEST-PASS', '|', 'widget/tests/browser/browser_test_ime_state_after_body_removed_and_reconnected_in_designMode.js', '|', 'test_replace_body_in_designMode', ':', 'IME', 'should', 'be', 'enabled', 'after', 'the', '<', 'body', '>', 'is', 'reconnected', '-', '1', '==', '1', '-', '[', 'task', '2024-08-27T05:06:08.081Z', ']', '05:06:08', 'INFO', '-', 'Leaving', 'test', 'bound', 'test_replace_body_in_designMode', '[', 'task', '2024-08-27T05:06:08.082Z', ']', '05:06:08', 'INFO', '-', 'Entering', 'test', 'bound', 'test_replace_document_element_in_designMode', '[', 'task', '2024-08-27T05:06:08.082Z', ']', '05:06:08', 'INFO', '-', 'TEST-PASS', '|', 'widget/tests/browser/browser_test_ime_state_after_body_removed_and_reconnected_in_designMode.js', '|', 'test_replace_document_element_in_designMode', ':', 'TextInputProcessor', 'should', \"'ve\", 'been', 'initialized', '-', '[', 'task', '2024-08-27T05:06:08.083Z', ']', '05:06:08', 'INFO', '-', 'Console', 'message', ':', '[', 'JavaScript', 'Warning', ':', '``', 'This', 'page', 'is', 'in', 'Quirks', 'Mode', '.', 'Page', 'layout', 'may', 'be', 'impacted', '.', 'For', 'Standards', 'Mode', 'use', '“', '<', '!', 'DOCTYPE', 'html', '>', '”', '.', \"''\", '{', 'file', ':', '``', 'data', ':', 'text/html', ',', '<', 'html', '>', '<', 'body', '>', '<', 'br', '>', '<', '/body', '>', '<', '/html', '>', \"''\", 'line', ':', '0', '}', ']', '[', 'task', '2024-08-27T05:06:08.083Z', ']', '05:06:08', 'INFO', '-', 'test_replace_document_element_in_designMode', ':', 'Waiting', 'for', 'initial', 'IME', 'focus', '...', '[', 'task', '2024-08-27T05:06:08.084Z', ']', '05:06:08', 'INFO', '-', 'TEST-PASS', '|', 'widget/tests/browser/browser_test_ime_state_after_body_removed_and_reconnected_in_designMode.js', '|', 'test_replace_document_element_in_designMode', ':', 'IME', 'should', 'be', 'enabled', 'when', 'the', 'document', 'becomes', 'editable', '-', '1', '==', '1', '-', '[', 'task', '2024-08-27T05:06:08.084Z', ']', '05:06:08', 'INFO', '-', 'test_replace_document_element_in_designMode', ':', 'Waiting', 'for', 'IME', 'blur', 'after', 'the', '<', 'html', '>', 'is', 'removed', '...', '[', 'task', '2024-08-27T05:06:08.084Z', ']', '05:06:08', 'INFO', '-', 'TEST-PASS', '|', 'widget/tests/browser/browser_test_ime_state_after_body_removed_and_reconnected_in_designMode.js', '|', 'test_replace_document_element_in_designMode', ':', 'IME', 'should', 'be', 'enabled', 'after', 'the', '<', 'html', '>', 'is', 'removed', '-', '1', '==', '1', '-', '[', 'task', '2024-08-27T05:06:08.085Z', ']', '05:06:08', 'INFO', '-', 'Buffered', 'messages', 'finished', '[', 'task', '2024-08-27T05:06:08.086Z', ']', '05:06:08', 'INFO', '-', 'TEST-UNEXPECTED-FAIL', '|', 'widget/tests/browser/browser_test_ime_state_after_body_removed_and_reconnected_in_designMode.js', '|', 'test_replace_document_element_in_designMode', ':', 'IME', 'should', 'not', 'be', 'refocused', 'when', 'the', '<', 'html', '>', 'is', 'reconnected', '-', '1', '==', '0', '-', '[', 'task', '2024-08-27T05:06:08.086Z', ']', '05:06:08', 'INFO', '-', 'Stack', 'trace', ':', '[', 'task', '2024-08-27T05:06:08.086Z', ']', '05:06:08', 'INFO', '-', 'chrome', ':', '//mochitests/content/browser/widget/tests/browser/browser_test_ime_state_after_body_removed_and_reconnected_in_designMode.js', ':', 'test_replace_document_element_in_designMode/', '<', ':155', '[', 'task', '2024-08-27T05:06:08.086Z', ']', '05:06:08', 'INFO', '-', 'resource', ':', '//testing-common/BrowserTestUtils.sys.mjs', ':', 'withNewTab:121', '[', 'task', '2024-08-27T05:06:08.086Z', ']', '05:06:08', 'INFO', '-', 'chrome', ':', '//mochitests/content/browser/widget/tests/browser/browser_test_ime_state_after_body_removed_and_reconnected_in_designMode.js', ':', 'test_replace_document_element_in_designMode:93', '[', 'task', '2024-08-27T05:06:08.086Z', ']', '05:06:08', 'INFO', '-', 'chrome', ':', '//mochikit/content/browser-test.js', ':', 'handleTask:1145', '[', 'task', '2024-08-27T05:06:08.086Z', ']', '05:06:08', 'INFO', '-', 'chrome', ':', '//mochikit/content/browser-test.js', ':', '_runTaskBasedTest:1217', '[', 'task', '2024-08-27T05:06:08.086Z', ']', '05:06:08', 'INFO', '-', 'chrome', ':', '//mochikit/content/browser-test.js', ':', 'Tester_execTest:1358', '[', 'task', '2024-08-27T05:06:08.086Z', ']', '05:06:08', 'INFO', '-', 'chrome', ':', '//mochikit/content/browser-test.js', ':', 'nextTest/', '<', ':1134', '[', 'task', '2024-08-27T05:06:08.086Z', ']', '05:06:08', 'INFO', '-', 'chrome', ':', '//mochikit/content/tests/SimpleTest/SimpleTest.js', ':', 'SimpleTest.waitForFocus/', '<', ':1058', '[', 'task', '2024-08-27T05:06:08.087Z', ']', '05:06:08', 'INFO', '-', 'TEST-PASS', '|', 'widget/tests/browser/browser_test_ime_state_after_body_removed_and_reconnected_in_designMode.js', '|', 'test_replace_document_element_in_designMode', ':', 'IME', 'should', 'be', 'enabled', 'after', 'the', '<', 'html', '>', 'is', 'reconnected', '-', '1', '==', '1', '-', '[', 'task', '2024-08-27T05:06:08.087Z', ']', '05:06:08', 'INFO', '-', 'Leaving', 'test', 'bound', 'test_replace_document_element_in_designMode', '[', 'task', '2024-08-27T05:06:08.216Z', ']', '05:06:08', 'INFO', '-', 'GECKO', '(', '3882', ')', '|', 'MEMORY', 'STAT', '|', 'vsize', '24735MB', '|', 'residentFast', '339MB', '|', 'heapAllocated', '139MB', '[', 'task', '2024-08-27T05:06:08.216Z', ']', '05:06:08', 'INFO', '-', 'TEST-OK', '|', 'widget/tests/browser/browser_test_ime_state_after_body_removed_and_reconnected_in_designMode.js', '|', 'took', '7770ms', '[', 'task', '2024-08-27T05:06:08.236Z', ']', '05:06:08', 'INFO', '-', 'checking', 'window', 'state', '[', 'task', '2024-08-27T05:06:08.243Z', ']', '05:06:08', 'INFO', '-', 'TEST-START', '|', 'widget/tests/browser/browser_test_ime_state_in_contenteditable_on_focus_move_in_remote_content.js', '``', '`']\n",
      "Normalised:  ['*', '*', 'filed', 'by', ':', '*', '*', 'nfay', '[', 'at', ']', 'mozilla.com', '*', '*', 'parsed', 'log', ':', '*', '*', 'https', ':', '//treeherder.mozilla.org/logviewer', '?', 'job_id=471892173', '&', 'repo=autoland', '*', '*', 'full', 'log', ':', '*', '*', 'https', ':', '//firefox-ci-tc.services.mozilla.com/api/queue/v1/task/mbzy-wsysz-cjurnuerz4a/runs/0/artifacts/public/logs/live_backing.log', '--', '-', '``', '`', '[', 'task', '2024-08-27t05:06:00.446z', ']', '05:06:00', 'info', '-', 'test-start', '|', 'widget/tests/browser/browser_test_ime_state_after_body_removed_and_reconnected_in_designmode.js', '[', 'task', '2024-08-27t05:06:01.261z', ']', '05:06:01', 'info', '-', 'gecko', '(', '3882', ')', '|', '2024-08-27', '05:06:01.260', 'firefox', '[', '3882:107419', ']', 'persistent', 'ui', 'failed', 'to', 'open', 'file', 'file', ':', '///users/cltbld/library/saved', '%', '20application', '%', '20state/org.mozilla.nightly.savedstate/window_1.data', ':', 'no', 'such', 'file', 'or', 'directory', '(', '2', ')', '[', 'task', '2024-08-27t05:06:07.958z', ']', '05:06:07', 'info', '-', 'test-info', '|', 'started', 'process', 'screencapture', '[', 'task', '2024-08-27t05:06:08.076z', ']', '05:06:08', 'info', '-', 'test-info', '|', 'screencapture', ':', 'exit', '0', '[', 'task', '2024-08-27t05:06:08.076z', ']', '05:06:08', 'info', '-', 'buffered', 'messages', 'logged', 'at', '05:06:00', '[', 'task', '2024-08-27t05:06:08.076z', ']', '05:06:08', 'info', '-', 'entering', 'test', 'bound', 'test_replace_body_in_designmode', '[', 'task', '2024-08-27t05:06:08.077z', ']', '05:06:08', 'info', '-', 'test-pass', '|', 'widget/tests/browser/browser_test_ime_state_after_body_removed_and_reconnected_in_designmode.js', '|', 'test_replace_body_in_designmode', ':', 'textinputprocessor', 'should', \"'ve\", 'been', 'initialized', '-', '[', 'task', '2024-08-27t05:06:08.077z', ']', '05:06:08', 'info', '-', 'console', 'message', ':', '[', 'javascript', 'warning', ':', '``', 'this', 'page', 'is', 'in', 'quirks', 'mode', '.', 'page', 'layout', 'may', 'be', 'impacted', '.', 'for', 'standards', 'mode', 'use', '“', '<', '!', 'doctype', 'html', '>', '”', '.', \"''\", '{', 'file', ':', '``', 'data', ':', 'text/html', ',', '<', 'html', '>', '<', 'body', '>', '<', 'br', '>', '<', '/body', '>', '<', '/html', '>', \"''\", 'line', ':', '0', '}', ']', '[', 'task', '2024-08-27t05:06:08.078z', ']', '05:06:08', 'info', '-', 'test_replace_body_in_designmode', ':', 'waiting', 'for', 'initial', 'ime', 'focus', '...', '[', 'task', '2024-08-27t05:06:08.078z', ']', '05:06:08', 'info', '-', 'test-pass', '|', 'widget/tests/browser/browser_test_ime_state_after_body_removed_and_reconnected_in_designmode.js', '|', 'test_replace_body_in_designmode', ':', 'ime', 'should', 'be', 'enabled', 'when', 'the', 'document', 'becomes', 'editable', '-', '1', '==', '1', '-', '[', 'task', '2024-08-27t05:06:08.079z', ']', '05:06:08', 'info', '-', 'test_replace_body_in_designmode', ':', 'waiting', 'for', 'ime', 'refocus', 'after', 'the', '<', 'body', '>', 'is', 'removed', '...', '[', 'task', '2024-08-27t05:06:08.079z', ']', '05:06:08', 'info', '-', 'buffered', 'messages', 'logged', 'at', '05:06:01', '[', 'task', '2024-08-27t05:06:08.080z', ']', '05:06:08', 'info', '-', 'test-pass', '|', 'widget/tests/browser/browser_test_ime_state_after_body_removed_and_reconnected_in_designmode.js', '|', 'test_replace_body_in_designmode', ':', 'ime', 'should', 'be', 'enabled', 'after', 'the', '<', 'body', '>', 'is', 'removed', '-', '1', '==', '1', '-', '[', 'task', '2024-08-27t05:06:08.080z', ']', '05:06:08', 'info', '-', 'buffered', 'messages', 'logged', 'at', '05:06:07', '[', 'task', '2024-08-27t05:06:08.080z', ']', '05:06:08', 'info', '-', 'test-pass', '|', 'widget/tests/browser/browser_test_ime_state_after_body_removed_and_reconnected_in_designmode.js', '|', 'test_replace_body_in_designmode', ':', 'ime', 'should', 'not', 'be', 'refocused', 'when', 'the', '<', 'body', '>', 'is', 'reconnected', '-', '0', '==', '0', '-', '[', 'task', '2024-08-27t05:06:08.081z', ']', '05:06:08', 'info', '-', 'test-pass', '|', 'widget/tests/browser/browser_test_ime_state_after_body_removed_and_reconnected_in_designmode.js', '|', 'test_replace_body_in_designmode', ':', 'ime', 'should', 'be', 'enabled', 'after', 'the', '<', 'body', '>', 'is', 'reconnected', '-', '1', '==', '1', '-', '[', 'task', '2024-08-27t05:06:08.081z', ']', '05:06:08', 'info', '-', 'leaving', 'test', 'bound', 'test_replace_body_in_designmode', '[', 'task', '2024-08-27t05:06:08.082z', ']', '05:06:08', 'info', '-', 'entering', 'test', 'bound', 'test_replace_document_element_in_designmode', '[', 'task', '2024-08-27t05:06:08.082z', ']', '05:06:08', 'info', '-', 'test-pass', '|', 'widget/tests/browser/browser_test_ime_state_after_body_removed_and_reconnected_in_designmode.js', '|', 'test_replace_document_element_in_designmode', ':', 'textinputprocessor', 'should', \"'ve\", 'been', 'initialized', '-', '[', 'task', '2024-08-27t05:06:08.083z', ']', '05:06:08', 'info', '-', 'console', 'message', ':', '[', 'javascript', 'warning', ':', '``', 'this', 'page', 'is', 'in', 'quirks', 'mode', '.', 'page', 'layout', 'may', 'be', 'impacted', '.', 'for', 'standards', 'mode', 'use', '“', '<', '!', 'doctype', 'html', '>', '”', '.', \"''\", '{', 'file', ':', '``', 'data', ':', 'text/html', ',', '<', 'html', '>', '<', 'body', '>', '<', 'br', '>', '<', '/body', '>', '<', '/html', '>', \"''\", 'line', ':', '0', '}', ']', '[', 'task', '2024-08-27t05:06:08.083z', ']', '05:06:08', 'info', '-', 'test_replace_document_element_in_designmode', ':', 'waiting', 'for', 'initial', 'ime', 'focus', '...', '[', 'task', '2024-08-27t05:06:08.084z', ']', '05:06:08', 'info', '-', 'test-pass', '|', 'widget/tests/browser/browser_test_ime_state_after_body_removed_and_reconnected_in_designmode.js', '|', 'test_replace_document_element_in_designmode', ':', 'ime', 'should', 'be', 'enabled', 'when', 'the', 'document', 'becomes', 'editable', '-', '1', '==', '1', '-', '[', 'task', '2024-08-27t05:06:08.084z', ']', '05:06:08', 'info', '-', 'test_replace_document_element_in_designmode', ':', 'waiting', 'for', 'ime', 'blur', 'after', 'the', '<', 'html', '>', 'is', 'removed', '...', '[', 'task', '2024-08-27t05:06:08.084z', ']', '05:06:08', 'info', '-', 'test-pass', '|', 'widget/tests/browser/browser_test_ime_state_after_body_removed_and_reconnected_in_designmode.js', '|', 'test_replace_document_element_in_designmode', ':', 'ime', 'should', 'be', 'enabled', 'after', 'the', '<', 'html', '>', 'is', 'removed', '-', '1', '==', '1', '-', '[', 'task', '2024-08-27t05:06:08.085z', ']', '05:06:08', 'info', '-', 'buffered', 'messages', 'finished', '[', 'task', '2024-08-27t05:06:08.086z', ']', '05:06:08', 'info', '-', 'test-unexpected-fail', '|', 'widget/tests/browser/browser_test_ime_state_after_body_removed_and_reconnected_in_designmode.js', '|', 'test_replace_document_element_in_designmode', ':', 'ime', 'should', 'not', 'be', 'refocused', 'when', 'the', '<', 'html', '>', 'is', 'reconnected', '-', '1', '==', '0', '-', '[', 'task', '2024-08-27t05:06:08.086z', ']', '05:06:08', 'info', '-', 'stack', 'trace', ':', '[', 'task', '2024-08-27t05:06:08.086z', ']', '05:06:08', 'info', '-', 'chrome', ':', '//mochitests/content/browser/widget/tests/browser/browser_test_ime_state_after_body_removed_and_reconnected_in_designmode.js', ':', 'test_replace_document_element_in_designmode/', '<', ':155', '[', 'task', '2024-08-27t05:06:08.086z', ']', '05:06:08', 'info', '-', 'resource', ':', '//testing-common/browsertestutils.sys.mjs', ':', 'withnewtab:121', '[', 'task', '2024-08-27t05:06:08.086z', ']', '05:06:08', 'info', '-', 'chrome', ':', '//mochitests/content/browser/widget/tests/browser/browser_test_ime_state_after_body_removed_and_reconnected_in_designmode.js', ':', 'test_replace_document_element_in_designmode:93', '[', 'task', '2024-08-27t05:06:08.086z', ']', '05:06:08', 'info', '-', 'chrome', ':', '//mochikit/content/browser-test.js', ':', 'handletask:1145', '[', 'task', '2024-08-27t05:06:08.086z', ']', '05:06:08', 'info', '-', 'chrome', ':', '//mochikit/content/browser-test.js', ':', '_runtaskbasedtest:1217', '[', 'task', '2024-08-27t05:06:08.086z', ']', '05:06:08', 'info', '-', 'chrome', ':', '//mochikit/content/browser-test.js', ':', 'tester_exectest:1358', '[', 'task', '2024-08-27t05:06:08.086z', ']', '05:06:08', 'info', '-', 'chrome', ':', '//mochikit/content/browser-test.js', ':', 'nexttest/', '<', ':1134', '[', 'task', '2024-08-27t05:06:08.086z', ']', '05:06:08', 'info', '-', 'chrome', ':', '//mochikit/content/tests/simpletest/simpletest.js', ':', 'simpletest.waitforfocus/', '<', ':1058', '[', 'task', '2024-08-27t05:06:08.087z', ']', '05:06:08', 'info', '-', 'test-pass', '|', 'widget/tests/browser/browser_test_ime_state_after_body_removed_and_reconnected_in_designmode.js', '|', 'test_replace_document_element_in_designmode', ':', 'ime', 'should', 'be', 'enabled', 'after', 'the', '<', 'html', '>', 'is', 'reconnected', '-', '1', '==', '1', '-', '[', 'task', '2024-08-27t05:06:08.087z', ']', '05:06:08', 'info', '-', 'leaving', 'test', 'bound', 'test_replace_document_element_in_designmode', '[', 'task', '2024-08-27t05:06:08.216z', ']', '05:06:08', 'info', '-', 'gecko', '(', '3882', ')', '|', 'memory', 'stat', '|', 'vsize', '24735mb', '|', 'residentfast', '339mb', '|', 'heapallocated', '139mb', '[', 'task', '2024-08-27t05:06:08.216z', ']', '05:06:08', 'info', '-', 'test-ok', '|', 'widget/tests/browser/browser_test_ime_state_after_body_removed_and_reconnected_in_designmode.js', '|', 'took', '7770ms', '[', 'task', '2024-08-27t05:06:08.236z', ']', '05:06:08', 'info', '-', 'checking', 'window', 'state', '[', 'task', '2024-08-27t05:06:08.243z', ']', '05:06:08', 'info', '-', 'test-start', '|', 'widget/tests/browser/browser_test_ime_state_in_contenteditable_on_focus_move_in_remote_content.js', '``', '`']\n",
      "Punctuation marks removed:  ['filed', 'by', 'nfay', 'at', 'mozillacom', 'parsed', 'log', 'https', 'treeherdermozillaorglogviewer', 'job_id471892173', 'repoautoland', 'full', 'log', 'https', 'firefoxcitcservicesmozillacomapiqueuev1taskmbzywsyszcjurnuerz4aruns0artifactspubliclogslive_backinglog', 'task', '20240827t050600446z', '050600', 'info', 'teststart', 'widgettestsbrowserbrowser_test_ime_state_after_body_removed_and_reconnected_in_designmodejs', 'task', '20240827t050601261z', '050601', 'info', 'gecko', '3882', '20240827', '050601260', 'firefox', '3882107419', 'persistent', 'ui', 'failed', 'to', 'open', 'file', 'file', 'userscltbldlibrarysaved', '20application', '20stateorgmozillanightlysavedstatewindow_1data', 'no', 'such', 'file', 'or', 'directory', '2', 'task', '20240827t050607958z', '050607', 'info', 'testinfo', 'started', 'process', 'screencapture', 'task', '20240827t050608076z', '050608', 'info', 'testinfo', 'screencapture', 'exit', '0', 'task', '20240827t050608076z', '050608', 'info', 'buffered', 'messages', 'logged', 'at', '050600', 'task', '20240827t050608076z', '050608', 'info', 'entering', 'test', 'bound', 'test_replace_body_in_designmode', 'task', '20240827t050608077z', '050608', 'info', 'testpass', 'widgettestsbrowserbrowser_test_ime_state_after_body_removed_and_reconnected_in_designmodejs', 'test_replace_body_in_designmode', 'textinputprocessor', 'should', 've', 'been', 'initialized', 'task', '20240827t050608077z', '050608', 'info', 'console', 'message', 'javascript', 'warning', 'this', 'page', 'is', 'in', 'quirks', 'mode', 'page', 'layout', 'may', 'be', 'impacted', 'for', 'standards', 'mode', 'use', 'doctype', 'html', 'file', 'data', 'texthtml', 'html', 'body', 'br', 'body', 'html', 'line', '0', 'task', '20240827t050608078z', '050608', 'info', 'test_replace_body_in_designmode', 'waiting', 'for', 'initial', 'ime', 'focus', 'task', '20240827t050608078z', '050608', 'info', 'testpass', 'widgettestsbrowserbrowser_test_ime_state_after_body_removed_and_reconnected_in_designmodejs', 'test_replace_body_in_designmode', 'ime', 'should', 'be', 'enabled', 'when', 'the', 'document', 'becomes', 'editable', '1', '1', 'task', '20240827t050608079z', '050608', 'info', 'test_replace_body_in_designmode', 'waiting', 'for', 'ime', 'refocus', 'after', 'the', 'body', 'is', 'removed', 'task', '20240827t050608079z', '050608', 'info', 'buffered', 'messages', 'logged', 'at', '050601', 'task', '20240827t050608080z', '050608', 'info', 'testpass', 'widgettestsbrowserbrowser_test_ime_state_after_body_removed_and_reconnected_in_designmodejs', 'test_replace_body_in_designmode', 'ime', 'should', 'be', 'enabled', 'after', 'the', 'body', 'is', 'removed', '1', '1', 'task', '20240827t050608080z', '050608', 'info', 'buffered', 'messages', 'logged', 'at', '050607', 'task', '20240827t050608080z', '050608', 'info', 'testpass', 'widgettestsbrowserbrowser_test_ime_state_after_body_removed_and_reconnected_in_designmodejs', 'test_replace_body_in_designmode', 'ime', 'should', 'not', 'be', 'refocused', 'when', 'the', 'body', 'is', 'reconnected', '0', '0', 'task', '20240827t050608081z', '050608', 'info', 'testpass', 'widgettestsbrowserbrowser_test_ime_state_after_body_removed_and_reconnected_in_designmodejs', 'test_replace_body_in_designmode', 'ime', 'should', 'be', 'enabled', 'after', 'the', 'body', 'is', 'reconnected', '1', '1', 'task', '20240827t050608081z', '050608', 'info', 'leaving', 'test', 'bound', 'test_replace_body_in_designmode', 'task', '20240827t050608082z', '050608', 'info', 'entering', 'test', 'bound', 'test_replace_document_element_in_designmode', 'task', '20240827t050608082z', '050608', 'info', 'testpass', 'widgettestsbrowserbrowser_test_ime_state_after_body_removed_and_reconnected_in_designmodejs', 'test_replace_document_element_in_designmode', 'textinputprocessor', 'should', 've', 'been', 'initialized', 'task', '20240827t050608083z', '050608', 'info', 'console', 'message', 'javascript', 'warning', 'this', 'page', 'is', 'in', 'quirks', 'mode', 'page', 'layout', 'may', 'be', 'impacted', 'for', 'standards', 'mode', 'use', 'doctype', 'html', 'file', 'data', 'texthtml', 'html', 'body', 'br', 'body', 'html', 'line', '0', 'task', '20240827t050608083z', '050608', 'info', 'test_replace_document_element_in_designmode', 'waiting', 'for', 'initial', 'ime', 'focus', 'task', '20240827t050608084z', '050608', 'info', 'testpass', 'widgettestsbrowserbrowser_test_ime_state_after_body_removed_and_reconnected_in_designmodejs', 'test_replace_document_element_in_designmode', 'ime', 'should', 'be', 'enabled', 'when', 'the', 'document', 'becomes', 'editable', '1', '1', 'task', '20240827t050608084z', '050608', 'info', 'test_replace_document_element_in_designmode', 'waiting', 'for', 'ime', 'blur', 'after', 'the', 'html', 'is', 'removed', 'task', '20240827t050608084z', '050608', 'info', 'testpass', 'widgettestsbrowserbrowser_test_ime_state_after_body_removed_and_reconnected_in_designmodejs', 'test_replace_document_element_in_designmode', 'ime', 'should', 'be', 'enabled', 'after', 'the', 'html', 'is', 'removed', '1', '1', 'task', '20240827t050608085z', '050608', 'info', 'buffered', 'messages', 'finished', 'task', '20240827t050608086z', '050608', 'info', 'testunexpectedfail', 'widgettestsbrowserbrowser_test_ime_state_after_body_removed_and_reconnected_in_designmodejs', 'test_replace_document_element_in_designmode', 'ime', 'should', 'not', 'be', 'refocused', 'when', 'the', 'html', 'is', 'reconnected', '1', '0', 'task', '20240827t050608086z', '050608', 'info', 'stack', 'trace', 'task', '20240827t050608086z', '050608', 'info', 'chrome', 'mochitestscontentbrowserwidgettestsbrowserbrowser_test_ime_state_after_body_removed_and_reconnected_in_designmodejs', 'test_replace_document_element_in_designmode', '155', 'task', '20240827t050608086z', '050608', 'info', 'resource', 'testingcommonbrowsertestutilssysmjs', 'withnewtab121', 'task', '20240827t050608086z', '050608', 'info', 'chrome', 'mochitestscontentbrowserwidgettestsbrowserbrowser_test_ime_state_after_body_removed_and_reconnected_in_designmodejs', 'test_replace_document_element_in_designmode93', 'task', '20240827t050608086z', '050608', 'info', 'chrome', 'mochikitcontentbrowsertestjs', 'handletask1145', 'task', '20240827t050608086z', '050608', 'info', 'chrome', 'mochikitcontentbrowsertestjs', '_runtaskbasedtest1217', 'task', '20240827t050608086z', '050608', 'info', 'chrome', 'mochikitcontentbrowsertestjs', 'tester_exectest1358', 'task', '20240827t050608086z', '050608', 'info', 'chrome', 'mochikitcontentbrowsertestjs', 'nexttest', '1134', 'task', '20240827t050608086z', '050608', 'info', 'chrome', 'mochikitcontenttestssimpletestsimpletestjs', 'simpletestwaitforfocus', '1058', 'task', '20240827t050608087z', '050608', 'info', 'testpass', 'widgettestsbrowserbrowser_test_ime_state_after_body_removed_and_reconnected_in_designmodejs', 'test_replace_document_element_in_designmode', 'ime', 'should', 'be', 'enabled', 'after', 'the', 'html', 'is', 'reconnected', '1', '1', 'task', '20240827t050608087z', '050608', 'info', 'leaving', 'test', 'bound', 'test_replace_document_element_in_designmode', 'task', '20240827t050608216z', '050608', 'info', 'gecko', '3882', 'memory', 'stat', 'vsize', '24735mb', 'residentfast', '339mb', 'heapallocated', '139mb', 'task', '20240827t050608216z', '050608', 'info', 'testok', 'widgettestsbrowserbrowser_test_ime_state_after_body_removed_and_reconnected_in_designmodejs', 'took', '7770ms', 'task', '20240827t050608236z', '050608', 'info', 'checking', 'window', 'state', 'task', '20240827t050608243z', '050608', 'info', 'teststart', 'widgettestsbrowserbrowser_test_ime_state_in_contenteditable_on_focus_move_in_remote_contentjs']\n",
      "Stop-words removed:  ['filed', 'nfay', 'mozillacom', 'parsed', 'log', 'https', 'treeherdermozillaorglogviewer', 'job_id471892173', 'repoautoland', 'full', 'log', 'https', 'firefoxcitcservicesmozillacomapiqueuev1taskmbzywsyszcjurnuerz4aruns0artifactspubliclogslive_backinglog', 'task', '20240827t050600446z', '050600', 'info', 'teststart', 'widgettestsbrowserbrowser_test_ime_state_after_body_removed_and_reconnected_in_designmodejs', 'task', '20240827t050601261z', '050601', 'info', 'gecko', '3882', '20240827', '050601260', 'firefox', '3882107419', 'persistent', 'ui', 'failed', 'open', 'file', 'file', 'userscltbldlibrarysaved', '20application', '20stateorgmozillanightlysavedstatewindow_1data', 'file', 'directory', '2', 'task', '20240827t050607958z', '050607', 'info', 'testinfo', 'started', 'process', 'screencapture', 'task', '20240827t050608076z', '050608', 'info', 'testinfo', 'screencapture', 'exit', '0', 'task', '20240827t050608076z', '050608', 'info', 'buffered', 'messages', 'logged', '050600', 'task', '20240827t050608076z', '050608', 'info', 'entering', 'test', 'bound', 'test_replace_body_in_designmode', 'task', '20240827t050608077z', '050608', 'info', 'testpass', 'widgettestsbrowserbrowser_test_ime_state_after_body_removed_and_reconnected_in_designmodejs', 'test_replace_body_in_designmode', 'textinputprocessor', 'initialized', 'task', '20240827t050608077z', '050608', 'info', 'console', 'message', 'javascript', 'warning', 'page', 'quirks', 'mode', 'page', 'layout', 'may', 'impacted', 'standards', 'mode', 'use', 'doctype', 'html', 'file', 'data', 'texthtml', 'html', 'body', 'br', 'body', 'html', 'line', '0', 'task', '20240827t050608078z', '050608', 'info', 'test_replace_body_in_designmode', 'waiting', 'initial', 'ime', 'focus', 'task', '20240827t050608078z', '050608', 'info', 'testpass', 'widgettestsbrowserbrowser_test_ime_state_after_body_removed_and_reconnected_in_designmodejs', 'test_replace_body_in_designmode', 'ime', 'enabled', 'document', 'becomes', 'editable', '1', '1', 'task', '20240827t050608079z', '050608', 'info', 'test_replace_body_in_designmode', 'waiting', 'ime', 'refocus', 'body', 'removed', 'task', '20240827t050608079z', '050608', 'info', 'buffered', 'messages', 'logged', '050601', 'task', '20240827t050608080z', '050608', 'info', 'testpass', 'widgettestsbrowserbrowser_test_ime_state_after_body_removed_and_reconnected_in_designmodejs', 'test_replace_body_in_designmode', 'ime', 'enabled', 'body', 'removed', '1', '1', 'task', '20240827t050608080z', '050608', 'info', 'buffered', 'messages', 'logged', '050607', 'task', '20240827t050608080z', '050608', 'info', 'testpass', 'widgettestsbrowserbrowser_test_ime_state_after_body_removed_and_reconnected_in_designmodejs', 'test_replace_body_in_designmode', 'ime', 'refocused', 'body', 'reconnected', '0', '0', 'task', '20240827t050608081z', '050608', 'info', 'testpass', 'widgettestsbrowserbrowser_test_ime_state_after_body_removed_and_reconnected_in_designmodejs', 'test_replace_body_in_designmode', 'ime', 'enabled', 'body', 'reconnected', '1', '1', 'task', '20240827t050608081z', '050608', 'info', 'leaving', 'test', 'bound', 'test_replace_body_in_designmode', 'task', '20240827t050608082z', '050608', 'info', 'entering', 'test', 'bound', 'test_replace_document_element_in_designmode', 'task', '20240827t050608082z', '050608', 'info', 'testpass', 'widgettestsbrowserbrowser_test_ime_state_after_body_removed_and_reconnected_in_designmodejs', 'test_replace_document_element_in_designmode', 'textinputprocessor', 'initialized', 'task', '20240827t050608083z', '050608', 'info', 'console', 'message', 'javascript', 'warning', 'page', 'quirks', 'mode', 'page', 'layout', 'may', 'impacted', 'standards', 'mode', 'use', 'doctype', 'html', 'file', 'data', 'texthtml', 'html', 'body', 'br', 'body', 'html', 'line', '0', 'task', '20240827t050608083z', '050608', 'info', 'test_replace_document_element_in_designmode', 'waiting', 'initial', 'ime', 'focus', 'task', '20240827t050608084z', '050608', 'info', 'testpass', 'widgettestsbrowserbrowser_test_ime_state_after_body_removed_and_reconnected_in_designmodejs', 'test_replace_document_element_in_designmode', 'ime', 'enabled', 'document', 'becomes', 'editable', '1', '1', 'task', '20240827t050608084z', '050608', 'info', 'test_replace_document_element_in_designmode', 'waiting', 'ime', 'blur', 'html', 'removed', 'task', '20240827t050608084z', '050608', 'info', 'testpass', 'widgettestsbrowserbrowser_test_ime_state_after_body_removed_and_reconnected_in_designmodejs', 'test_replace_document_element_in_designmode', 'ime', 'enabled', 'html', 'removed', '1', '1', 'task', '20240827t050608085z', '050608', 'info', 'buffered', 'messages', 'finished', 'task', '20240827t050608086z', '050608', 'info', 'testunexpectedfail', 'widgettestsbrowserbrowser_test_ime_state_after_body_removed_and_reconnected_in_designmodejs', 'test_replace_document_element_in_designmode', 'ime', 'refocused', 'html', 'reconnected', '1', '0', 'task', '20240827t050608086z', '050608', 'info', 'stack', 'trace', 'task', '20240827t050608086z', '050608', 'info', 'chrome', 'mochitestscontentbrowserwidgettestsbrowserbrowser_test_ime_state_after_body_removed_and_reconnected_in_designmodejs', 'test_replace_document_element_in_designmode', '155', 'task', '20240827t050608086z', '050608', 'info', 'resource', 'testingcommonbrowsertestutilssysmjs', 'withnewtab121', 'task', '20240827t050608086z', '050608', 'info', 'chrome', 'mochitestscontentbrowserwidgettestsbrowserbrowser_test_ime_state_after_body_removed_and_reconnected_in_designmodejs', 'test_replace_document_element_in_designmode93', 'task', '20240827t050608086z', '050608', 'info', 'chrome', 'mochikitcontentbrowsertestjs', 'handletask1145', 'task', '20240827t050608086z', '050608', 'info', 'chrome', 'mochikitcontentbrowsertestjs', '_runtaskbasedtest1217', 'task', '20240827t050608086z', '050608', 'info', 'chrome', 'mochikitcontentbrowsertestjs', 'tester_exectest1358', 'task', '20240827t050608086z', '050608', 'info', 'chrome', 'mochikitcontentbrowsertestjs', 'nexttest', '1134', 'task', '20240827t050608086z', '050608', 'info', 'chrome', 'mochikitcontenttestssimpletestsimpletestjs', 'simpletestwaitforfocus', '1058', 'task', '20240827t050608087z', '050608', 'info', 'testpass', 'widgettestsbrowserbrowser_test_ime_state_after_body_removed_and_reconnected_in_designmodejs', 'test_replace_document_element_in_designmode', 'ime', 'enabled', 'html', 'reconnected', '1', '1', 'task', '20240827t050608087z', '050608', 'info', 'leaving', 'test', 'bound', 'test_replace_document_element_in_designmode', 'task', '20240827t050608216z', '050608', 'info', 'gecko', '3882', 'memory', 'stat', 'vsize', '24735mb', 'residentfast', '339mb', 'heapallocated', '139mb', 'task', '20240827t050608216z', '050608', 'info', 'testok', 'widgettestsbrowserbrowser_test_ime_state_after_body_removed_and_reconnected_in_designmodejs', 'took', '7770ms', 'task', '20240827t050608236z', '050608', 'info', 'checking', 'window', 'state', 'task', '20240827t050608243z', '050608', 'info', 'teststart', 'widgettestsbrowserbrowser_test_ime_state_in_contenteditable_on_focus_move_in_remote_contentjs']\n"
     ]
    }
   ],
   "source": [
    "data['Pdescription'] = data['description'].fillna('').map(NLProcess)"
   ]
  },
  {
   "cell_type": "code",
   "execution_count": 70,
   "metadata": {},
   "outputs": [
    {
     "data": {
      "text/html": [
       "<div>\n",
       "<style scoped>\n",
       "    .dataframe tbody tr th:only-of-type {\n",
       "        vertical-align: middle;\n",
       "    }\n",
       "\n",
       "    .dataframe tbody tr th {\n",
       "        vertical-align: top;\n",
       "    }\n",
       "\n",
       "    .dataframe thead th {\n",
       "        text-align: right;\n",
       "    }\n",
       "</style>\n",
       "<table border=\"1\" class=\"dataframe\">\n",
       "  <thead>\n",
       "    <tr style=\"text-align: right;\">\n",
       "      <th></th>\n",
       "      <th>Unnamed: 0</th>\n",
       "      <th>resolution</th>\n",
       "      <th>product</th>\n",
       "      <th>creation_time</th>\n",
       "      <th>priority</th>\n",
       "      <th>classification</th>\n",
       "      <th>type</th>\n",
       "      <th>last_change_time</th>\n",
       "      <th>component</th>\n",
       "      <th>summary</th>\n",
       "      <th>...</th>\n",
       "      <th>assigned_to</th>\n",
       "      <th>id</th>\n",
       "      <th>severity</th>\n",
       "      <th>version</th>\n",
       "      <th>assigned_to_detail.nick</th>\n",
       "      <th>assigned_to_detail.id</th>\n",
       "      <th>assigned_to_detail.name</th>\n",
       "      <th>assigned_to_detail.real_name</th>\n",
       "      <th>assigned_to_detail.email</th>\n",
       "      <th>Psummary</th>\n",
       "    </tr>\n",
       "  </thead>\n",
       "  <tbody>\n",
       "    <tr>\n",
       "      <th>14</th>\n",
       "      <td>14</td>\n",
       "      <td>NaN</td>\n",
       "      <td>Core</td>\n",
       "      <td>2024-08-27T00:41:00Z</td>\n",
       "      <td>--</td>\n",
       "      <td>Components</td>\n",
       "      <td>defect</td>\n",
       "      <td>2024-08-27T07:57:36Z</td>\n",
       "      <td>JavaScript: GC</td>\n",
       "      <td>Crash in [@ js::gc::Arena::getAllocKind]</td>\n",
       "      <td>...</td>\n",
       "      <td>nobody@mozilla.org</td>\n",
       "      <td>1915055</td>\n",
       "      <td>--</td>\n",
       "      <td>unspecified</td>\n",
       "      <td>nobody</td>\n",
       "      <td>1</td>\n",
       "      <td>nobody@mozilla.org</td>\n",
       "      <td>Nobody; OK to take it and work on it</td>\n",
       "      <td>nobody@mozilla.org</td>\n",
       "      <td>[crash, j, gc, arena, getallockind]</td>\n",
       "    </tr>\n",
       "  </tbody>\n",
       "</table>\n",
       "<p>1 rows × 22 columns</p>\n",
       "</div>"
      ],
      "text/plain": [
       "    Unnamed: 0 resolution product         creation_time priority  \\\n",
       "14          14        NaN    Core  2024-08-27T00:41:00Z       --   \n",
       "\n",
       "   classification    type      last_change_time       component  \\\n",
       "14     Components  defect  2024-08-27T07:57:36Z  JavaScript: GC   \n",
       "\n",
       "                                     summary  ...         assigned_to  \\\n",
       "14  Crash in [@ js::gc::Arena::getAllocKind]  ...  nobody@mozilla.org   \n",
       "\n",
       "         id severity      version assigned_to_detail.nick  \\\n",
       "14  1915055       --  unspecified                  nobody   \n",
       "\n",
       "   assigned_to_detail.id assigned_to_detail.name  \\\n",
       "14                     1      nobody@mozilla.org   \n",
       "\n",
       "            assigned_to_detail.real_name assigned_to_detail.email  \\\n",
       "14  Nobody; OK to take it and work on it       nobody@mozilla.org   \n",
       "\n",
       "                               Psummary  \n",
       "14  [crash, j, gc, arena, getallockind]  \n",
       "\n",
       "[1 rows x 22 columns]"
      ]
     },
     "execution_count": 70,
     "metadata": {},
     "output_type": "execute_result"
    }
   ],
   "source": [
    "data.loc[data['description'].str.contains('//crash-stats.mozilla.org/report/index/768c5c44-57c5-4746-890c-9af820240811', case=False, na=False)]"
   ]
  },
  {
   "cell_type": "code",
   "execution_count": 73,
   "metadata": {},
   "outputs": [
    {
     "data": {
      "text/plain": [
       "nan"
      ]
     },
     "execution_count": 73,
     "metadata": {},
     "output_type": "execute_result"
    }
   ],
   "source": [
    "data['description'].iloc[15]"
   ]
  }
 ],
 "metadata": {
  "kernelspec": {
   "display_name": "Python 3",
   "language": "python",
   "name": "python3"
  },
  "language_info": {
   "codemirror_mode": {
    "name": "ipython",
    "version": 3
   },
   "file_extension": ".py",
   "mimetype": "text/x-python",
   "name": "python",
   "nbconvert_exporter": "python",
   "pygments_lexer": "ipython3",
   "version": "3.12.3"
  }
 },
 "nbformat": 4,
 "nbformat_minor": 2
}
